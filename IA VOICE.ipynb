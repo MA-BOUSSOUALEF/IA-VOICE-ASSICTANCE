{
 "cells": [
  {
   "cell_type": "code",
   "execution_count": 1,
   "metadata": {},
   "outputs": [],
   "source": [
    "#pip install speechRecognition\n",
    "import speech_recognition as sr \n",
    "#pip install pyttsx3\n",
    "import pyttsx3\n",
    "#pip install wikipedia-api\n",
    "#api de wikepidia pip install wikipedia\n",
    "\n",
    "import webbrowser as wb\n",
    "import requests\n",
    "base_url=\"https://api.openweathermap.org/data/2.5/weather?\"\n",
    "api=\"appid=8ef61edcf1c576d65d836254e11ea420&q=\"\n",
    "#wb.open('https://www.google.com')\n",
    "\n",
    "import wikipedia\n",
    "import wikipediaapi as wb \n",
    "import os\n"
   ]
  },
  {
   "cell_type": "code",
   "execution_count": 2,
   "metadata": {},
   "outputs": [
    {
     "name": "stdout",
     "output_type": "stream",
     "text": [
      "Hello Mister Amine im Your personal assistant how can i help you ?\n",
      "Listening...\n",
      "what is your question ?\n",
      "Listening...\n",
      "search what is the Feeling Good\n",
      "\"Feeling Good\" (also known as \"Feelin' Good\") is a song written by English composers Anthony Newley and Leslie Bricusse for the musical The Roar of the Greasepaint – The Smell of the Crowd. It was first performed on stage in 1964 by Cy Grant on the UK tour.\n",
      "Listening...\n",
      "what is your question ?\n",
      "Listening...\n",
      "search who is El khalifi\n",
      "Amine El Khalifi (Arabic: أمين محمد الخليفي; born c. 1983) is a Moroccan man who was arrested by the Federal Bureau of Investigation (FBI) for plotting to carry out a suicide bombing on the United States Capitol.\n",
      "Listening...\n",
      "Your personal assistant is closed Goodbye\n"
     ]
    }
   ],
   "source": [
    "\n",
    "# python -m pip install pyaudio\n",
    "def voice_commande(engine):\n",
    "  rec= sr.Recognizer()\n",
    "  with sr.Microphone() as source:\n",
    "      print(\"Listening...\")\n",
    "      audio=rec.listen(source)\n",
    "      try:\n",
    "          talk=rec.recognize_google(audio,language='en-in')#language=\"ar-ma\"\n",
    "          return  f\"you said: {talk}\"\n",
    "      except:\n",
    "        text=\"Sorry I do not understand can you repeat please?\"\n",
    "        speak(engine,text)\n",
    "        return text\n",
    "        \n",
    "def speak(engine,text):\n",
    "  engine.say(text)\n",
    "  engine.runAndWait()\n",
    "  \n",
    "engine=pyttsx3.init('sapi5')\n",
    "voices=engine.getProperty('voices')\n",
    "engine.setProperty('voice',voices[0].id)  \n",
    "flag=True\n",
    "text=\"Hello Mister Amine im Your personal assistant how can i help you ?\"\n",
    "speak(engine,text)\n",
    "print(text)\n",
    "while flag:\n",
    "  commande=voice_commande(engine)\n",
    "  if 'close' in commande:\n",
    "    flag=False\n",
    "    text=\"Your personal assistant is closed Goodbye\"\n",
    "    speak(engine,text)\n",
    "    print(text)\n",
    "  elif 'map' in commande:\n",
    "    search=commande.split(' ')[-1]\n",
    "    text=\"This is the map of \"+search\n",
    "    speak(engine,text)\n",
    "    print(text)\n",
    "    maps='https://www.google.com/maps/place/'+search\n",
    "    wb.open(maps)\n",
    "  elif 'question' in commande:\n",
    "    text=\"what is your question ?\"\n",
    "    speak(engine,text)\n",
    "    print(text)\n",
    "    command=voice_commande(engine)\n",
    "    search=' '.join(command.split(' ')[2:])\n",
    "    print('search '+search)\n",
    "    answer=wikipedia.summary(search,sentences=2)\n",
    "    # wiki=wb.Wikipedia('alh_software')\n",
    "    # wiki_page=wiki.page(search)\n",
    "    # ' '.join(wiki_page.summary.split('.')[:4])\n",
    "    print(answer)\n",
    "    speak(engine,answer)\n",
    "    \n",
    "  elif 'weather' in commande:\n",
    "    text=\"can you specifier the city please ?\"\n",
    "    speak(engine,text)\n",
    "    print(text)\n",
    "    command=voice_commande(engine)\n",
    "    city=command.split(' ')[-1]\n",
    "    url=base_url+api+city+'&lang=en'\n",
    "    response=requests.get(url)\n",
    "    if response.status_code == 200:\n",
    "      data=response.json()\n",
    "      description=data['weather'][0]['description']\n",
    "      text=\"The weather in \"+city+\" is \"+description\n",
    "      speak(engine,text)\n",
    "      print(text)\n",
    "    else:\n",
    "      text = \"I couldn't find the weather information for that city.\"\n",
    "      speak(engine, text)\n",
    "      print(text)\n",
    "  \n",
    "    "
   ]
  },
  {
   "cell_type": "code",
   "execution_count": 3,
   "metadata": {},
   "outputs": [
    {
     "name": "stdout",
     "output_type": "stream",
     "text": [
      "Google LLC (  GOO-ghəl) is an American multinational corporation and technology company focusing on online advertising, search engine technology, cloud computing, computer software, quantum computing, e-commerce, consumer electronics, and artificial intelligence (AI). It has been referred to as \"the most powerful company in the world\" and is one of the world's most valuable brands due to its market dominance, data collection, and technological advantages in the field of AI. Google's parent company, Alphabet Inc., is one of the five Big Tech companies, alongside Amazon, Apple, Meta, and Microsoft.\n"
     ]
    }
   ],
   "source": [
    "search='what is google '\n",
    "# wiki=wb.Wikipedia('alh_software')\n",
    "# wiki_page=wiki.page(search)\n",
    "de=wikipedia.summary(search,sentences=2)\n",
    "print(de)"
   ]
  },
  {
   "cell_type": "code",
   "execution_count": null,
   "metadata": {},
   "outputs": [],
   "source": []
  },
  {
   "cell_type": "code",
   "execution_count": null,
   "metadata": {},
   "outputs": [],
   "source": []
  }
 ],
 "metadata": {
  "kernelspec": {
   "display_name": "Python 3",
   "language": "python",
   "name": "python3"
  },
  "language_info": {
   "codemirror_mode": {
    "name": "ipython",
    "version": 3
   },
   "file_extension": ".py",
   "mimetype": "text/x-python",
   "name": "python",
   "nbconvert_exporter": "python",
   "pygments_lexer": "ipython3",
   "version": "3.11.5"
  }
 },
 "nbformat": 4,
 "nbformat_minor": 2
}
